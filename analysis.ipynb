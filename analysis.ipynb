{
 "cells": [
  {
   "cell_type": "code",
   "execution_count": 1,
   "metadata": {},
   "outputs": [
    {
     "data": {
      "text/plain": [
       "('C:\\\\Users\\\\david\\\\.conda\\\\envs\\\\pypsa-eur\\\\python.exe',\n",
       " '3.8.6 | packaged by conda-forge | (default, Jan 25 2021, 22:54:47) [MSC v.1916 64 bit (AMD64)]')"
      ]
     },
     "execution_count": 1,
     "metadata": {},
     "output_type": "execute_result"
    }
   ],
   "source": [
    "import sys\n",
    "sys.executable, sys.version"
   ]
  },
  {
   "cell_type": "code",
   "execution_count": 2,
   "metadata": {},
   "outputs": [],
   "source": [
    "import gams\n",
    "from Analysis.gams_result import GamsResult\n"
   ]
  },
  {
   "cell_type": "code",
   "execution_count": 5,
   "metadata": {},
   "outputs": [
    {
     "data": {
      "text/plain": [
       "('My GAMS Version', '31.1.1')"
      ]
     },
     "execution_count": 5,
     "metadata": {},
     "output_type": "execute_result"
    }
   ],
   "source": [
    "result = GamsResult(\"Analysis\\El-aut-voll.gdx\")\n",
    "\"My GAMS Version\",result.ws.version"
   ]
  },
  {
   "cell_type": "code",
   "execution_count": 25,
   "metadata": {},
   "outputs": [
    {
     "data": {
      "text/html": [
       "<div>\n",
       "<style scoped>\n",
       "    .dataframe tbody tr th:only-of-type {\n",
       "        vertical-align: middle;\n",
       "    }\n",
       "\n",
       "    .dataframe tbody tr th {\n",
       "        vertical-align: top;\n",
       "    }\n",
       "\n",
       "    .dataframe thead th {\n",
       "        text-align: right;\n",
       "    }\n",
       "</style>\n",
       "<table border=\"1\" class=\"dataframe\">\n",
       "  <thead>\n",
       "    <tr style=\"text-align: right;\">\n",
       "      <th></th>\n",
       "      <th>MY</th>\n",
       "      <th>TS</th>\n",
       "      <th>value</th>\n",
       "    </tr>\n",
       "  </thead>\n",
       "  <tbody>\n",
       "    <tr>\n",
       "      <th>0</th>\n",
       "      <td>2021</td>\n",
       "      <td>sp_ex_1</td>\n",
       "      <td>19605.802904</td>\n",
       "    </tr>\n",
       "    <tr>\n",
       "      <th>1</th>\n",
       "      <td>2021</td>\n",
       "      <td>sp_ex_20</td>\n",
       "      <td>17565.242752</td>\n",
       "    </tr>\n",
       "    <tr>\n",
       "      <th>2</th>\n",
       "      <td>2021</td>\n",
       "      <td>su_ex_1</td>\n",
       "      <td>11127.211792</td>\n",
       "    </tr>\n",
       "    <tr>\n",
       "      <th>3</th>\n",
       "      <td>2021</td>\n",
       "      <td>su_ex_6</td>\n",
       "      <td>3518.735121</td>\n",
       "    </tr>\n",
       "    <tr>\n",
       "      <th>4</th>\n",
       "      <td>2021</td>\n",
       "      <td>su_ex_14</td>\n",
       "      <td>3264.479024</td>\n",
       "    </tr>\n",
       "  </tbody>\n",
       "</table>\n",
       "</div>"
      ],
      "text/plain": [
       "     MY        TS         value\n",
       "0  2021   sp_ex_1  19605.802904\n",
       "1  2021  sp_ex_20  17565.242752\n",
       "2  2021   su_ex_1  11127.211792\n",
       "3  2021   su_ex_6   3518.735121\n",
       "4  2021  su_ex_14   3264.479024"
      ]
     },
     "execution_count": 25,
     "metadata": {},
     "output_type": "execute_result"
    }
   ],
   "source": [
    "LLVoLL = result.param_as_df(\"LostLoadVoLL\")\n",
    "LLVoLL.head()"
   ]
  },
  {
   "cell_type": "code",
   "execution_count": 33,
   "metadata": {},
   "outputs": [
    {
     "data": {
      "text/plain": [
       "(            value\n",
       " count  176.000000\n",
       " mean     0.680631\n",
       " std      0.449902\n",
       " min      0.000189\n",
       " 25%      0.052454\n",
       " 50%      1.000000\n",
       " 75%      1.000000\n",
       " max      1.000000,\n",
       "      MY DS_en    LT     value\n",
       " 0  2021     1   E21  0.002884\n",
       " 1  2021     1  SW21  1.000000\n",
       " 2  2021     1  SW29  0.105024\n",
       " 3  2021     1   S37  1.000000\n",
       " 4  2021     1  SW37  0.017239)"
      ]
     },
     "execution_count": 33,
     "metadata": {},
     "output_type": "execute_result"
    }
   ],
   "source": [
    "other_result = GamsResult(\"Analysis\\El-aut.gdx\")\n",
    "landuse = other_result.param_as_df(\"LanduseExploitation\")\n",
    "landuse.describe(),landuse.head()"
   ]
  },
  {
   "cell_type": "code",
   "execution_count": null,
   "metadata": {},
   "outputs": [],
   "source": []
  }
 ],
 "metadata": {
  "kernelspec": {
   "display_name": "Python 3",
   "language": "python",
   "name": "python3"
  },
  "language_info": {
   "codemirror_mode": {
    "name": "ipython",
    "version": 3
   },
   "file_extension": ".py",
   "mimetype": "text/x-python",
   "name": "python",
   "nbconvert_exporter": "python",
   "pygments_lexer": "ipython3",
   "version": "3.7.10"
  }
 },
 "nbformat": 4,
 "nbformat_minor": 2
}
